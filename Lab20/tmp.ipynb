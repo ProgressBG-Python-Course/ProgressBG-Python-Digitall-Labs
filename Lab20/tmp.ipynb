{
 "cells": [
  {
   "cell_type": "code",
   "execution_count": 72,
   "metadata": {},
   "outputs": [],
   "source": [
    "import requests\n",
    "import json\n",
    "import pandas as pd\n",
    "import numpy as np"
   ]
  },
  {
   "cell_type": "markdown",
   "metadata": {},
   "source": [
    "## Load data"
   ]
  },
  {
   "cell_type": "code",
   "execution_count": null,
   "metadata": {
    "vscode": {
     "languageId": "json"
    }
   },
   "outputs": [
    {
     "data": {
      "text/plain": [
       "{'reports': [{'columnHeader': {'dimensions': ['ga:date'],\n",
       "    'metricHeader': {'metricHeaderEntries': [{'name': 'ga:sessions'},\n",
       "      {'name': 'ga:pageviews'},\n",
       "      {'name': 'ga:users'}]}},\n",
       "   'data': {'rows': [{'dimensions': ['20230101'],\n",
       "      'metrics': [{'values': ['1000', '3000', '900']}]},\n",
       "     {'dimensions': ['20230102'],\n",
       "      'metrics': [{'values': ['950', '2800', '850']}]},\n",
       "     {'dimensions': ['20230103'],\n",
       "      'metrics': [{'values': ['970', '2900', '870']}]},\n",
       "     {'dimensions': ['20230104'],\n",
       "      'metrics': [{'values': ['', '3100', '890']}]}]}}]}"
      ]
     },
     "execution_count": 4,
     "metadata": {},
     "output_type": "execute_result"
    }
   ],
   "source": [
    "json_data = \"\"\"\n",
    "{\n",
    "  \"reports\": [\n",
    "    {\n",
    "      \"columnHeader\":\n",
    "      {\n",
    "        \"dimensions\": [\"ga:date\"],\n",
    "        \"metricHeader\": {\n",
    "          \"metricHeaderEntries\": [\n",
    "            {\"name\": \"ga:sessions\"},\n",
    "            {\"name\": \"ga:pageviews\"},\n",
    "            {\"name\": \"ga:users\"}\n",
    "          ]\n",
    "        }\n",
    "      },\n",
    "      \"data\": {\n",
    "        \"rows\": [\n",
    "          {\n",
    "            \"dimensions\": [\"20230101\"],\n",
    "            \"metrics\": [{\"values\": [\"1000\", \"3000\", \"900\"]}]\n",
    "          },\n",
    "          {\n",
    "            \"dimensions\": [\"20230102\"],\n",
    "            \"metrics\": [{\"values\": [\"950\", \"2800\", \"850\"]}]\n",
    "          },\n",
    "          {\n",
    "            \"dimensions\": [\"20230103\"],\n",
    "            \"metrics\": [{\"values\": [\"970\", \"2900\", \"870\"]}]\n",
    "          },\n",
    "          {\n",
    "            \"dimensions\": [\"20230104\"],\n",
    "            \"metrics\": [{\"values\": [\"\", \"3100\", \"890\"]}]\n",
    "          }\n",
    "        ]\n",
    "      }\n",
    "    }\n",
    "  ]\n",
    "}\n",
    "\"\"\"\n",
    "data = json.loads(json_data)\n",
    "data"
   ]
  },
  {
   "cell_type": "code",
   "execution_count": 73,
   "metadata": {},
   "outputs": [
    {
     "data": {
      "text/plain": [
       "['ga:date', 'ga:sessions', 'ga:pageviews', 'ga:users']"
      ]
     },
     "execution_count": 73,
     "metadata": {},
     "output_type": "execute_result"
    }
   ],
   "source": [
    "dimensions_column_name = data['reports'][0]['columnHeader']['dimensions']\n",
    "metrics_column_names_dict = data['reports'][0]['columnHeader']['metricHeader']['metricHeaderEntries']\n",
    "metrics_column_names = [entry['name'] for entry in metrics_column_names_dict]\n",
    "metrics_column_names\n",
    "\n",
    "column_names = dimensions_column_name + metrics_column_names\n",
    "column_names"
   ]
  },
  {
   "cell_type": "code",
   "execution_count": 74,
   "metadata": {},
   "outputs": [
    {
     "data": {
      "text/plain": [
       "[['20230101', '1000', '3000', '900'],\n",
       " ['20230102', '950', '2800', '850'],\n",
       " ['20230103', '970', '2900', '870'],\n",
       " ['20230104', '', '3100', '890']]"
      ]
     },
     "execution_count": 74,
     "metadata": {},
     "output_type": "execute_result"
    }
   ],
   "source": [
    "data_rows = data['reports'][0]['data']['rows']\n",
    "# [\n",
    "#     {\n",
    "#         \"dimensions\": [\"20230101\"],\n",
    "#         \"metrics\": [{\"values\": [\"1000\", \"3000\", \"900\"]}]\n",
    "#     },\n",
    "#     {\n",
    "#         \"dimensions\": [\"20230102\"],\n",
    "#         \"metrics\": [{\"values\": [\"950\", \"2800\", \"850\"]}]\n",
    "#     },\n",
    "# ]\n",
    "rows = [\n",
    "    d['dimensions'] + d['metrics'][0]['values']\n",
    "    for d in data_rows\n",
    "]\n",
    "rows\n"
   ]
  },
  {
   "cell_type": "code",
   "execution_count": 75,
   "metadata": {},
   "outputs": [
    {
     "data": {
      "text/html": [
       "<div>\n",
       "<style scoped>\n",
       "    .dataframe tbody tr th:only-of-type {\n",
       "        vertical-align: middle;\n",
       "    }\n",
       "\n",
       "    .dataframe tbody tr th {\n",
       "        vertical-align: top;\n",
       "    }\n",
       "\n",
       "    .dataframe thead th {\n",
       "        text-align: right;\n",
       "    }\n",
       "</style>\n",
       "<table border=\"1\" class=\"dataframe\">\n",
       "  <thead>\n",
       "    <tr style=\"text-align: right;\">\n",
       "      <th></th>\n",
       "      <th>ga:date</th>\n",
       "      <th>ga:sessions</th>\n",
       "      <th>ga:pageviews</th>\n",
       "      <th>ga:users</th>\n",
       "    </tr>\n",
       "  </thead>\n",
       "  <tbody>\n",
       "    <tr>\n",
       "      <th>0</th>\n",
       "      <td>20230101</td>\n",
       "      <td>1000</td>\n",
       "      <td>3000</td>\n",
       "      <td>900</td>\n",
       "    </tr>\n",
       "    <tr>\n",
       "      <th>1</th>\n",
       "      <td>20230102</td>\n",
       "      <td>950</td>\n",
       "      <td>2800</td>\n",
       "      <td>850</td>\n",
       "    </tr>\n",
       "    <tr>\n",
       "      <th>2</th>\n",
       "      <td>20230103</td>\n",
       "      <td>970</td>\n",
       "      <td>2900</td>\n",
       "      <td>870</td>\n",
       "    </tr>\n",
       "    <tr>\n",
       "      <th>3</th>\n",
       "      <td>20230104</td>\n",
       "      <td></td>\n",
       "      <td>3100</td>\n",
       "      <td>890</td>\n",
       "    </tr>\n",
       "  </tbody>\n",
       "</table>\n",
       "</div>"
      ],
      "text/plain": [
       "    ga:date ga:sessions ga:pageviews ga:users\n",
       "0  20230101        1000         3000      900\n",
       "1  20230102         950         2800      850\n",
       "2  20230103         970         2900      870\n",
       "3  20230104                     3100      890"
      ]
     },
     "execution_count": 75,
     "metadata": {},
     "output_type": "execute_result"
    }
   ],
   "source": [
    "df = pd.DataFrame(data=rows, columns=column_names)\n",
    "df"
   ]
  },
  {
   "cell_type": "markdown",
   "metadata": {},
   "source": [
    "## Merge DFs\n"
   ]
  },
  {
   "cell_type": "code",
   "execution_count": 76,
   "metadata": {},
   "outputs": [
    {
     "data": {
      "text/html": [
       "<div>\n",
       "<style scoped>\n",
       "    .dataframe tbody tr th:only-of-type {\n",
       "        vertical-align: middle;\n",
       "    }\n",
       "\n",
       "    .dataframe tbody tr th {\n",
       "        vertical-align: top;\n",
       "    }\n",
       "\n",
       "    .dataframe thead th {\n",
       "        text-align: right;\n",
       "    }\n",
       "</style>\n",
       "<table border=\"1\" class=\"dataframe\">\n",
       "  <thead>\n",
       "    <tr style=\"text-align: right;\">\n",
       "      <th></th>\n",
       "      <th>date</th>\n",
       "      <th>sessions</th>\n",
       "      <th>pageviews</th>\n",
       "      <th>users</th>\n",
       "    </tr>\n",
       "  </thead>\n",
       "  <tbody>\n",
       "    <tr>\n",
       "      <th>0</th>\n",
       "      <td>20230101</td>\n",
       "      <td>1000</td>\n",
       "      <td>3000</td>\n",
       "      <td>900</td>\n",
       "    </tr>\n",
       "    <tr>\n",
       "      <th>1</th>\n",
       "      <td>20230102</td>\n",
       "      <td>950</td>\n",
       "      <td>2800</td>\n",
       "      <td>850</td>\n",
       "    </tr>\n",
       "    <tr>\n",
       "      <th>2</th>\n",
       "      <td>20230103</td>\n",
       "      <td>970</td>\n",
       "      <td>2900</td>\n",
       "      <td>870</td>\n",
       "    </tr>\n",
       "    <tr>\n",
       "      <th>3</th>\n",
       "      <td>20230104</td>\n",
       "      <td></td>\n",
       "      <td>3100</td>\n",
       "      <td>890</td>\n",
       "    </tr>\n",
       "  </tbody>\n",
       "</table>\n",
       "</div>"
      ],
      "text/plain": [
       "       date sessions pageviews users\n",
       "0  20230101     1000      3000   900\n",
       "1  20230102      950      2800   850\n",
       "2  20230103      970      2900   870\n",
       "3  20230104               3100   890"
      ]
     },
     "execution_count": 76,
     "metadata": {},
     "output_type": "execute_result"
    }
   ],
   "source": [
    "# df['date'] = pd.to_datetime(df['ga:date'])\n",
    "# df.drop(columns='ga:date', inplace=True, errors='ignore')\n",
    "df.rename( lambda cn:cn.replace('ga:',''), axis=1, inplace=True)\n",
    "df\n"
   ]
  },
  {
   "cell_type": "code",
   "execution_count": 77,
   "metadata": {},
   "outputs": [
    {
     "data": {
      "text/plain": [
       "'sessions'"
      ]
     },
     "execution_count": 77,
     "metadata": {},
     "output_type": "execute_result"
    }
   ],
   "source": [
    "test = 'ga:sessions'\n",
    "test.replace('ga:', '')"
   ]
  },
  {
   "cell_type": "markdown",
   "metadata": {},
   "source": [
    "## Data Cleaning"
   ]
  },
  {
   "cell_type": "code",
   "execution_count": 78,
   "metadata": {},
   "outputs": [
    {
     "name": "stdout",
     "output_type": "stream",
     "text": [
      "<class 'pandas.core.frame.DataFrame'>\n",
      "RangeIndex: 4 entries, 0 to 3\n",
      "Data columns (total 4 columns):\n",
      " #   Column     Non-Null Count  Dtype \n",
      "---  ------     --------------  ----- \n",
      " 0   date       4 non-null      object\n",
      " 1   sessions   4 non-null      object\n",
      " 2   pageviews  4 non-null      object\n",
      " 3   users      4 non-null      object\n",
      "dtypes: object(4)\n",
      "memory usage: 260.0+ bytes\n"
     ]
    }
   ],
   "source": [
    "df.info()"
   ]
  },
  {
   "cell_type": "code",
   "execution_count": 79,
   "metadata": {},
   "outputs": [
    {
     "data": {
      "text/html": [
       "<div>\n",
       "<style scoped>\n",
       "    .dataframe tbody tr th:only-of-type {\n",
       "        vertical-align: middle;\n",
       "    }\n",
       "\n",
       "    .dataframe tbody tr th {\n",
       "        vertical-align: top;\n",
       "    }\n",
       "\n",
       "    .dataframe thead th {\n",
       "        text-align: right;\n",
       "    }\n",
       "</style>\n",
       "<table border=\"1\" class=\"dataframe\">\n",
       "  <thead>\n",
       "    <tr style=\"text-align: right;\">\n",
       "      <th></th>\n",
       "      <th>date</th>\n",
       "      <th>sessions</th>\n",
       "      <th>pageviews</th>\n",
       "      <th>users</th>\n",
       "    </tr>\n",
       "  </thead>\n",
       "  <tbody>\n",
       "    <tr>\n",
       "      <th>0</th>\n",
       "      <td>20230101.0</td>\n",
       "      <td>1000.0</td>\n",
       "      <td>3000.0</td>\n",
       "      <td>900.0</td>\n",
       "    </tr>\n",
       "    <tr>\n",
       "      <th>1</th>\n",
       "      <td>20230102.0</td>\n",
       "      <td>950.0</td>\n",
       "      <td>2800.0</td>\n",
       "      <td>850.0</td>\n",
       "    </tr>\n",
       "    <tr>\n",
       "      <th>2</th>\n",
       "      <td>20230103.0</td>\n",
       "      <td>970.0</td>\n",
       "      <td>2900.0</td>\n",
       "      <td>870.0</td>\n",
       "    </tr>\n",
       "    <tr>\n",
       "      <th>3</th>\n",
       "      <td>20230104.0</td>\n",
       "      <td>NaN</td>\n",
       "      <td>3100.0</td>\n",
       "      <td>890.0</td>\n",
       "    </tr>\n",
       "  </tbody>\n",
       "</table>\n",
       "</div>"
      ],
      "text/plain": [
       "         date  sessions  pageviews  users\n",
       "0  20230101.0    1000.0     3000.0  900.0\n",
       "1  20230102.0     950.0     2800.0  850.0\n",
       "2  20230103.0     970.0     2900.0  870.0\n",
       "3  20230104.0       NaN     3100.0  890.0"
      ]
     },
     "execution_count": 79,
     "metadata": {},
     "output_type": "execute_result"
    }
   ],
   "source": [
    "# df[['sessions', 'pageviews']] = df[]\n",
    "\n",
    "# df['sessions'] = pd.to_numeric(df['sessions'], downcast='integer')\n",
    "df = df.apply( pd.to_numeric, axis=1, errors=\"raise\")\n",
    "df\n",
    "# pd.to_numeric(df['sessions'])\n"
   ]
  },
  {
   "cell_type": "markdown",
   "metadata": {},
   "source": [
    "## Plot data\n"
   ]
  },
  {
   "cell_type": "code",
   "execution_count": 80,
   "metadata": {},
   "outputs": [
    {
     "data": {
      "text/plain": [
       "array([<Axes: xlabel='date'>, <Axes: xlabel='date'>,\n",
       "       <Axes: xlabel='date'>], dtype=object)"
      ]
     },
     "execution_count": 80,
     "metadata": {},
     "output_type": "execute_result"
    },
    {
     "data": {
      "image/png": "[encoded data removed]",
      "text/plain": [
       "<Figure size 640x480 with 3 Axes>"
      ]
     },
     "metadata": {},
     "output_type": "display_data"
    }
   ],
   "source": [
    "# plot line chart:\n",
    "df.plot(x='date', y=['sessions', 'pageviews','users'], subplots=True)"
   ]
  }
 ],
 "metadata": {
  "kernelspec": {
   "display_name": ".venv",
   "language": "python",
   "name": "python3"
  },
  "language_info": {
   "codemirror_mode": {
    "name": "ipython",
    "version": 3
   },
   "file_extension": ".py",
   "mimetype": "text/x-python",
   "name": "python",
   "nbconvert_exporter": "python",
   "pygments_lexer": "ipython3",
   "version": "3.12.0"
  }
 },
 "nbformat": 4,
 "nbformat_minor": 2
}
