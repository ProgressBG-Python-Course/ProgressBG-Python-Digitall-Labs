{
 "cells": [
  {
   "cell_type": "code",
   "execution_count": 26,
   "metadata": {},
   "outputs": [],
   "source": [
    "import pandas as pd\n",
    "import json"
   ]
  },
  {
   "cell_type": "code",
   "execution_count": 27,
   "metadata": {},
   "outputs": [],
   "source": [
    "json_data = '''\n",
    "{\n",
    "  \"campains\":{\n",
    "\n",
    "  },\n",
    "  \"employees\": [\n",
    "    {\n",
    "      \"name\": \"Ivan Ivanov\",\n",
    "      \"email\": \"ivan@example.com\",\n",
    "      \"job\": {\n",
    "        \"title\": \"Analyst\",\n",
    "        \"department\": \"Finance\"\n",
    "      }\n",
    "    },\n",
    "    {\n",
    "      \"name\": \"Maria Popova\",\n",
    "      \"email\": \"maria@example.com\",\n",
    "      \"job\": {\n",
    "        \"title\": \"Engineer\",\n",
    "        \"department\": \"Development\"\n",
    "      }\n",
    "    }\n",
    "  ]\n",
    "}\n",
    "'''"
   ]
  },
  {
   "cell_type": "code",
   "execution_count": 28,
   "metadata": {},
   "outputs": [],
   "source": [
    "data = json.loads(json_data)"
   ]
  },
  {
   "cell_type": "code",
   "execution_count": 29,
   "metadata": {},
   "outputs": [
    {
     "data": {
      "text/html": [
       "<div>\n",
       "<style scoped>\n",
       "    .dataframe tbody tr th:only-of-type {\n",
       "        vertical-align: middle;\n",
       "    }\n",
       "\n",
       "    .dataframe tbody tr th {\n",
       "        vertical-align: top;\n",
       "    }\n",
       "\n",
       "    .dataframe thead th {\n",
       "        text-align: right;\n",
       "    }\n",
       "</style>\n",
       "<table border=\"1\" class=\"dataframe\">\n",
       "  <thead>\n",
       "    <tr style=\"text-align: right;\">\n",
       "      <th></th>\n",
       "      <th>name</th>\n",
       "      <th>email</th>\n",
       "      <th>job_title</th>\n",
       "      <th>job_department</th>\n",
       "    </tr>\n",
       "  </thead>\n",
       "  <tbody>\n",
       "    <tr>\n",
       "      <th>0</th>\n",
       "      <td>Ivan Ivanov</td>\n",
       "      <td>ivan@example.com</td>\n",
       "      <td>Analyst</td>\n",
       "      <td>Finance</td>\n",
       "    </tr>\n",
       "    <tr>\n",
       "      <th>1</th>\n",
       "      <td>Maria Popova</td>\n",
       "      <td>maria@example.com</td>\n",
       "      <td>Engineer</td>\n",
       "      <td>Development</td>\n",
       "    </tr>\n",
       "  </tbody>\n",
       "</table>\n",
       "</div>"
      ],
      "text/plain": [
       "           name              email job_title job_department\n",
       "0   Ivan Ivanov   ivan@example.com   Analyst        Finance\n",
       "1  Maria Popova  maria@example.com  Engineer    Development"
      ]
     },
     "execution_count": 29,
     "metadata": {},
     "output_type": "execute_result"
    }
   ],
   "source": [
    "df = pd.json_normalize(\n",
    "    data=data,\n",
    "    record_path='employees',\n",
    "    sep=\"_\",\n",
    "\n",
    ")\n",
    "df"
   ]
  },
  {
   "cell_type": "markdown",
   "metadata": {},
   "source": [
    "## Example 2: Handling Nested Structures (using record_path)"
   ]
  },
  {
   "cell_type": "code",
   "execution_count": 30,
   "metadata": {},
   "outputs": [
    {
     "data": {
      "text/html": [
       "<div>\n",
       "<style scoped>\n",
       "    .dataframe tbody tr th:only-of-type {\n",
       "        vertical-align: middle;\n",
       "    }\n",
       "\n",
       "    .dataframe tbody tr th {\n",
       "        vertical-align: top;\n",
       "    }\n",
       "\n",
       "    .dataframe thead th {\n",
       "        text-align: right;\n",
       "    }\n",
       "</style>\n",
       "<table border=\"1\" class=\"dataframe\">\n",
       "  <thead>\n",
       "    <tr style=\"text-align: right;\">\n",
       "      <th></th>\n",
       "      <th>id</th>\n",
       "      <th>name</th>\n",
       "      <th>info.age</th>\n",
       "      <th>info.city</th>\n",
       "      <th>info.friends</th>\n",
       "    </tr>\n",
       "  </thead>\n",
       "  <tbody>\n",
       "    <tr>\n",
       "      <th>0</th>\n",
       "      <td>1</td>\n",
       "      <td>Ivan Petrov</td>\n",
       "      <td>28</td>\n",
       "      <td>Sofia</td>\n",
       "      <td>[{'name': 'Dimitar Dimitrov', 'age': 30}, {'na...</td>\n",
       "    </tr>\n",
       "  </tbody>\n",
       "</table>\n",
       "</div>"
      ],
      "text/plain": [
       "   id         name  info.age info.city  \\\n",
       "0   1  Ivan Petrov        28     Sofia   \n",
       "\n",
       "                                        info.friends  \n",
       "0  [{'name': 'Dimitar Dimitrov', 'age': 30}, {'na...  "
      ]
     },
     "execution_count": 30,
     "metadata": {},
     "output_type": "execute_result"
    }
   ],
   "source": [
    "data = [\n",
    "    {\n",
    "        \"id\": 1,\n",
    "        \"name\": \"Ivan Petrov\",\n",
    "        \"info\": {\n",
    "            \"age\": 28,\n",
    "            \"city\": \"Sofia\",\n",
    "            \"friends\": [\n",
    "                {\"name\": \"Dimitar Dimitrov\", \"age\": 30},\n",
    "                {\"name\": \"Stefan Ivanov\", \"age\": 26}\n",
    "            ]\n",
    "        }\n",
    "    }\n",
    "]\n",
    "\n",
    "df = pd.json_normalize(data=data)\n",
    "df"
   ]
  },
  {
   "cell_type": "code",
   "execution_count": 31,
   "metadata": {},
   "outputs": [
    {
     "data": {
      "text/html": [
       "<div>\n",
       "<style scoped>\n",
       "    .dataframe tbody tr th:only-of-type {\n",
       "        vertical-align: middle;\n",
       "    }\n",
       "\n",
       "    .dataframe tbody tr th {\n",
       "        vertical-align: top;\n",
       "    }\n",
       "\n",
       "    .dataframe thead th {\n",
       "        text-align: right;\n",
       "    }\n",
       "</style>\n",
       "<table border=\"1\" class=\"dataframe\">\n",
       "  <thead>\n",
       "    <tr style=\"text-align: right;\">\n",
       "      <th></th>\n",
       "      <th>_name</th>\n",
       "      <th>_age</th>\n",
       "      <th>user_name</th>\n",
       "      <th>user_info.age</th>\n",
       "      <th>user_info.city</th>\n",
       "    </tr>\n",
       "  </thead>\n",
       "  <tbody>\n",
       "    <tr>\n",
       "      <th>0</th>\n",
       "      <td>Dimitar Dimitrov</td>\n",
       "      <td>30</td>\n",
       "      <td>Ivan Petrov</td>\n",
       "      <td>28</td>\n",
       "      <td>Sofia</td>\n",
       "    </tr>\n",
       "    <tr>\n",
       "      <th>1</th>\n",
       "      <td>Stefan Ivanov</td>\n",
       "      <td>26</td>\n",
       "      <td>Ivan Petrov</td>\n",
       "      <td>28</td>\n",
       "      <td>Sofia</td>\n",
       "    </tr>\n",
       "  </tbody>\n",
       "</table>\n",
       "</div>"
      ],
      "text/plain": [
       "              _name  _age    user_name user_info.age user_info.city\n",
       "0  Dimitar Dimitrov    30  Ivan Petrov            28          Sofia\n",
       "1     Stefan Ivanov    26  Ivan Petrov            28          Sofia"
      ]
     },
     "execution_count": 31,
     "metadata": {},
     "output_type": "execute_result"
    }
   ],
   "source": [
    "df = pd.json_normalize(\n",
    "    data=data,\n",
    "    record_path=['info', 'friends'],\n",
    "    record_prefix='_',\n",
    "    meta=[\n",
    "        'name',\n",
    "        ['info', 'age'],\n",
    "        ['info', 'city']\n",
    "    ],\n",
    "    meta_prefix='user_'\n",
    ")\n",
    "df"
   ]
  },
  {
   "cell_type": "code",
   "execution_count": null,
   "metadata": {},
   "outputs": [],
   "source": []
  }
 ],
 "metadata": {
  "kernelspec": {
   "display_name": ".venv",
   "language": "python",
   "name": "python3"
  },
  "language_info": {
   "codemirror_mode": {
    "name": "ipython",
    "version": 3
   },
   "file_extension": ".py",
   "mimetype": "text/x-python",
   "name": "python",
   "nbconvert_exporter": "python",
   "pygments_lexer": "ipython3",
   "version": "3.12.0"
  }
 },
 "nbformat": 4,
 "nbformat_minor": 2
}
